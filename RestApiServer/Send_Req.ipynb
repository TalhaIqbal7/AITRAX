{
 "cells": [
  {
   "cell_type": "code",
   "execution_count": 1,
   "id": "d6fc1efd",
   "metadata": {},
   "outputs": [],
   "source": [
    "import requests"
   ]
  },
  {
   "cell_type": "code",
   "execution_count": 2,
   "id": "6fb3b42f",
   "metadata": {},
   "outputs": [
    {
     "name": "stdout",
     "output_type": "stream",
     "text": [
      "{'predictions': [2013.0567021440695]}\n"
     ]
    }
   ],
   "source": [
    "# Define the URL and payload\n",
    "url = 'http://localhost:5000/predict'  # Replace with your API URL\n",
    "payload = {\n",
    "    \"patient_data\": [\n",
    "        {\n",
    "            \"PatientID\": \"patient1\",\n",
    "            \"first_week\": 10,\n",
    "            \"first_FVC\": 2000,\n",
    "            \"first_Percent\": 80,\n",
    "            \"Age\": 50,\n",
    "            \"Sex\": \"Male\",\n",
    "            \"SmokingStatus\": \"Ex-smoker\",\n",
    "            \"target_week\": 20\n",
    "        }\n",
    "    ]\n",
    "}\n",
    "\n",
    "# Send a POST request with JSON payload\n",
    "response = requests.post(url, json=payload)\n",
    "\n",
    "# Check the response status code\n",
    "if response.status_code == 200:\n",
    "    # Successful response\n",
    "    data = response.json()\n",
    "    print(data)\n",
    "else:\n",
    "    # Error occurred\n",
    "    print(f\"Request failed with status code: {response.status_code}\")"
   ]
  },
  {
   "cell_type": "code",
   "execution_count": null,
   "id": "c9da6fd1",
   "metadata": {},
   "outputs": [],
   "source": []
  }
 ],
 "metadata": {
  "kernelspec": {
   "display_name": "Python 3 (ipykernel)",
   "language": "python",
   "name": "python3"
  },
  "language_info": {
   "codemirror_mode": {
    "name": "ipython",
    "version": 3
   },
   "file_extension": ".py",
   "mimetype": "text/x-python",
   "name": "python",
   "nbconvert_exporter": "python",
   "pygments_lexer": "ipython3",
   "version": "3.7.15"
  }
 },
 "nbformat": 4,
 "nbformat_minor": 5
}
