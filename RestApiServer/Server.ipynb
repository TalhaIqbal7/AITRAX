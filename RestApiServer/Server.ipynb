{
 "cells": [
  {
   "cell_type": "code",
   "execution_count": 9,
   "id": "e5b44045",
   "metadata": {},
   "outputs": [],
   "source": [
    "from flask import Flask, request, jsonify\n",
    "import numpy as np\n",
    "import pandas as pd\n",
    "from sklearn.preprocessing import LabelEncoder\n",
    "from sklearn.linear_model import LinearRegression\n",
    "import pickle\n",
    "from flask_cors import CORS"
   ]
  },
  {
   "cell_type": "code",
   "execution_count": 13,
   "id": "e71147b7",
   "metadata": {},
   "outputs": [],
   "source": [
    "with open('model_lr.pkl', 'rb') as f:\n",
    "    model = pickle.load(f)\n",
    "with open('le_1.pkl', 'rb') as v:\n",
    "    le_1 = pickle.load(v)\n",
    "with open('le_2.pkl', 'rb') as c:\n",
    "    le_2 = pickle.load(c)"
   ]
  },
  {
   "cell_type": "code",
   "execution_count": 20,
   "id": "e800d503",
   "metadata": {},
   "outputs": [],
   "source": [
    "app = Flask(__name__)\n",
    "CORS(app)\n",
    "trainData = None  # Load and preprocess train data\n",
    "testData = None  # Load and preprocess test data\n",
    "@app.route('/')\n",
    "def home():\n",
    "    return 'Hello on the Home Page'\n",
    "@app.route('/predict', methods=['POST'])\n",
    "def predict():\n",
    "    data = request.get_json()  # Get the JSON data from the request\n",
    "\n",
    "    # Preprocess the input data\n",
    "    patient_data = pd.DataFrame(data['patient_data'])\n",
    "    patient_data['Sex'] = le_1.transform(patient_data['Sex'])\n",
    "    patient_data['SmokingStatus'] = le_2.transform(patient_data['SmokingStatus'])\n",
    "    patient_data['delta_week'] = patient_data['target_week'].map(int) - patient_data['first_week']\n",
    "    patient_data.drop(columns=['first_Percent', 'first_week'], inplace=True)\n",
    "\n",
    "    # Make predictions\n",
    "    predictions = model.predict(patient_data.drop(columns=['PatientID', 'target_week']))\n",
    "\n",
    "    response = {\n",
    "        'predictions': predictions.tolist()\n",
    "    }\n",
    "\n",
    "    return jsonify(response)"
   ]
  },
  {
   "cell_type": "code",
   "execution_count": null,
   "id": "ff28476f",
   "metadata": {},
   "outputs": [
    {
     "name": "stdout",
     "output_type": "stream",
     "text": [
      " * Serving Flask app '__main__'\n",
      " * Debug mode: off\n"
     ]
    },
    {
     "name": "stderr",
     "output_type": "stream",
     "text": [
      "WARNING: This is a development server. Do not use it in a production deployment. Use a production WSGI server instead.\n",
      " * Running on http://127.0.0.1:5000\n",
      "Press CTRL+C to quit\n",
      "127.0.0.1 - - [12/Jun/2023 20:47:08] \"OPTIONS /predict HTTP/1.1\" 200 -\n",
      "127.0.0.1 - - [12/Jun/2023 20:47:08] \"POST /predict HTTP/1.1\" 200 -\n",
      "127.0.0.1 - - [12/Jun/2023 20:47:11] \"POST /predict HTTP/1.1\" 200 -\n",
      "127.0.0.1 - - [12/Jun/2023 21:13:15] \"OPTIONS /predict HTTP/1.1\" 200 -\n",
      "127.0.0.1 - - [12/Jun/2023 21:13:15] \"POST /predict HTTP/1.1\" 200 -\n",
      "127.0.0.1 - - [12/Jun/2023 21:13:46] \"OPTIONS /predict HTTP/1.1\" 200 -\n",
      "127.0.0.1 - - [12/Jun/2023 21:13:47] \"POST /predict HTTP/1.1\" 200 -\n",
      "127.0.0.1 - - [12/Jun/2023 21:13:50] \"POST /predict HTTP/1.1\" 200 -\n",
      "127.0.0.1 - - [12/Jun/2023 21:14:33] \"OPTIONS /predict HTTP/1.1\" 200 -\n",
      "127.0.0.1 - - [12/Jun/2023 21:14:34] \"POST /predict HTTP/1.1\" 200 -\n",
      "127.0.0.1 - - [12/Jun/2023 21:14:35] \"POST /predict HTTP/1.1\" 200 -\n",
      "127.0.0.1 - - [12/Jun/2023 21:14:35] \"POST /predict HTTP/1.1\" 200 -\n",
      "127.0.0.1 - - [12/Jun/2023 21:17:50] \"OPTIONS /predict HTTP/1.1\" 200 -\n",
      "127.0.0.1 - - [12/Jun/2023 21:17:50] \"POST /predict HTTP/1.1\" 200 -\n",
      "127.0.0.1 - - [12/Jun/2023 21:17:59] \"OPTIONS /predict HTTP/1.1\" 200 -\n",
      "127.0.0.1 - - [12/Jun/2023 21:18:00] \"POST /predict HTTP/1.1\" 200 -\n"
     ]
    }
   ],
   "source": [
    "if __name__ == '__main__':\n",
    "    app.run()"
   ]
  },
  {
   "cell_type": "code",
   "execution_count": null,
   "id": "d8ced90d",
   "metadata": {},
   "outputs": [],
   "source": []
  }
 ],
 "metadata": {
  "kernelspec": {
   "display_name": "Python 3 (ipykernel)",
   "language": "python",
   "name": "python3"
  },
  "language_info": {
   "codemirror_mode": {
    "name": "ipython",
    "version": 3
   },
   "file_extension": ".py",
   "mimetype": "text/x-python",
   "name": "python",
   "nbconvert_exporter": "python",
   "pygments_lexer": "ipython3",
   "version": "3.7.15"
  }
 },
 "nbformat": 4,
 "nbformat_minor": 5
}
